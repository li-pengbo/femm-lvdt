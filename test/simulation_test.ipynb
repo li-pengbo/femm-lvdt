{
 "cells": [
  {
   "cell_type": "code",
   "execution_count": 18,
   "metadata": {
    "jupyter": {
     "is_executing": true
    }
   },
   "outputs": [],
   "source": [
    "import femm\n",
    "import numpy as np\n",
    "import lvdt_module as lvdt\n"
   ]
  },
  {
   "cell_type": "markdown",
   "metadata": {},
   "source": [
    "### Alu cylinder + magnet core simulation"
   ]
  },
  {
   "cell_type": "code",
   "execution_count": 19,
   "metadata": {},
   "outputs": [],
   "source": [
    "# Alu_geo  = lvdt.clyinder_geo(10, 14, 12, 'Aluminum, 6061-T6')\n",
    "# Alu_geo_update = lvdt.update_cylinder_geo(Alu_geo)\n",
    "\n",
    "Magnet_geo = lvdt.def_core_geo(8, 4, 'N40', 0)\n",
    "Magnet_geo_update = lvdt.update_core_geo(Magnet_geo)\n",
    "\n",
    "OuterCoil_geo  = lvdt.def_coil_geo(\"100um\", 0.1, 0, 16,  3, 18, 0, 16)\n",
    "OuterCoil_geo_update = lvdt.update_coil_geo(OuterCoil_geo)\n",
    "OC_upper_circuit = lvdt.def_circuit_prop(\"outercoil_upper\", 0, 1)\n",
    "OC_lower_circuit = lvdt.def_circuit_prop(\"outercoil_lower\", 0, -1)\n",
    "\n",
    "MiddleCoil_geo = lvdt.def_coil_geo(\"100um\", 0.1, 0, 16,  3, 18, 0, 0)\n",
    "MiddleCoil_geo_update = lvdt.update_coil_geo(MiddleCoil_geo)\n",
    "MC_circuit = lvdt.def_circuit_prop(\"middlecoil\", 0, 0)\n",
    "\n",
    "CoreCoil_geo = lvdt.def_coil_geo(\"100um\",   0.1, 0,  8, 12, 12, 0, 0)\n",
    "CoreCoil_geo_update = lvdt.update_coil_geo(CoreCoil_geo)\n",
    "CC_circuit = lvdt.def_circuit_prop(\"corecoil\", 0, 0)"
   ]
  },
  {
   "cell_type": "code",
   "execution_count": 20,
   "metadata": {},
   "outputs": [
    {
     "name": "stdout",
     "output_type": "stream",
     "text": [
      "Magnet label:  1\n",
      "Core coil label:  2\n",
      "Middle coil label:  3\n",
      "Outer coil upper label:  4\n",
      "Outer coil lower label:  5\n"
     ]
    }
   ],
   "source": [
    "lvdt.def_femm_problem(signal_frequency = 0)\n",
    "lvdt.build_air_geometry(\"Outside\", 10)\n",
    "\n",
    "# alu_label = lvdt.build_cylinder_geometry(Alu_geo_update, 1)\n",
    "m_label = lvdt.build_core_geometry(Magnet_geo_update, 1)\n",
    "cc_label = lvdt.build_coil_geometry(CoreCoil_geo, CC_circuit, 2, customized_material=True)\n",
    "mc_label = lvdt.build_coil_geometry(MiddleCoil_geo_update, MC_circuit, 3,customized_material=True)\n",
    "oc_upper_label = lvdt.build_coil_geometry(OuterCoil_geo_update, OC_upper_circuit, 4, customized_material=True )\n",
    "oc_lower_label = lvdt.build_coil_geometry(OuterCoil_geo_update, OC_lower_circuit, 5, customized_material=True, reverse=True)\n",
    "\n",
    "# print(\"Alu label: \", alu_label)\n",
    "print(\"Magnet label: \", m_label)\n",
    "print(\"Core coil label: \", cc_label)\n",
    "print(\"Middle coil label: \", mc_label)\n",
    "print(\"Outer coil upper label: \", oc_upper_label)\n",
    "print(\"Outer coil lower label: \", oc_lower_label)\n"
   ]
  },
  {
   "cell_type": "code",
   "execution_count": 21,
   "metadata": {},
   "outputs": [
    {
     "name": "stdout",
     "output_type": "stream",
     "text": [
      "-5\n",
      "core: Force = 0.721310 \n",
      "MiddleCoil: Force = -0.000354 \n",
      "Upper Outer Coil: Force = -0.131923 \n",
      "Lower Outer Coil: Force = -0.570244 \n",
      "-4\n",
      "core: Force = 0.790560 \n",
      "MiddleCoil: Force = -0.000509 \n",
      "Upper Outer Coil: Force = -0.167798 \n",
      "Lower Outer Coil: Force = -0.627427 \n",
      "-3\n",
      "core: Force = 0.838517 \n",
      "MiddleCoil: Force = -0.000697 \n",
      "Upper Outer Coil: Force = -0.210073 \n",
      "Lower Outer Coil: Force = -0.632967 \n",
      "-2\n",
      "core: Force = 0.850692 \n",
      "MiddleCoil: Force = -0.000596 \n",
      "Upper Outer Coil: Force = -0.258587 \n",
      "Lower Outer Coil: Force = -0.601776 \n",
      "-1\n",
      "core: Force = 0.872039 \n",
      "MiddleCoil: Force = -0.000550 \n",
      "Upper Outer Coil: Force = -0.313875 \n",
      "Lower Outer Coil: Force = -0.549474 \n",
      "0\n",
      "core: Force = 0.870406 \n",
      "MiddleCoil: Force = -0.000070 \n",
      "Upper Outer Coil: Force = -0.373749 \n",
      "Lower Outer Coil: Force = -0.490727 \n",
      "1\n",
      "core: Force = 0.876929 \n",
      "MiddleCoil: Force = -0.000025 \n",
      "Upper Outer Coil: Force = -0.432276 \n",
      "Lower Outer Coil: Force = -0.431779 \n",
      "2\n",
      "core: Force = 0.866989 \n",
      "MiddleCoil: Force = -0.000230 \n",
      "Upper Outer Coil: Force = -0.483615 \n",
      "Lower Outer Coil: Force = -0.377135 \n",
      "3\n",
      "core: Force = 0.878017 \n",
      "MiddleCoil: Force = 0.000084 \n",
      "Upper Outer Coil: Force = -0.514261 \n",
      "Lower Outer Coil: Force = -0.328723 \n",
      "4\n",
      "core: Force = 0.800592 \n",
      "MiddleCoil: Force = 0.000802 \n",
      "Upper Outer Coil: Force = -0.510858 \n",
      "Lower Outer Coil: Force = -0.287688 \n",
      "5\n",
      "core: Force = 0.702513 \n",
      "MiddleCoil: Force = 0.000767 \n",
      "Upper Outer Coil: Force = -0.453807 \n",
      "Lower Outer Coil: Force = -0.251363 \n",
      "Simulation Finished\n"
     ]
    }
   ],
   "source": [
    "CC_config = lvdt.def_config(-5, 1,10)\n",
    "vc_force= lvdt.def_vc_force(CC_config['steps'])\n",
    "sim_results = lvdt.vc_simulation([1,2],CC_config, vc_force, M_label=m_label, MC_label=mc_label, OC_upper_label=oc_upper_label, OC_lower_label=oc_lower_label)"
   ]
  },
  {
   "cell_type": "code",
   "execution_count": 22,
   "metadata": {},
   "outputs": [],
   "source": [
    "filename = '../data/Corecoil_VC_aircoil_magcore_default.h5'\n",
    "lvdt.save_data(sim_results, filename)\n",
    "    "
   ]
  }
 ],
 "metadata": {
  "kernelspec": {
   "display_name": "lvdt",
   "language": "python",
   "name": "python3"
  },
  "language_info": {
   "codemirror_mode": {
    "name": "ipython",
    "version": 3
   },
   "file_extension": ".py",
   "mimetype": "text/x-python",
   "name": "python",
   "nbconvert_exporter": "python",
   "pygments_lexer": "ipython3",
   "version": "3.12.2"
  }
 },
 "nbformat": 4,
 "nbformat_minor": 2
}
