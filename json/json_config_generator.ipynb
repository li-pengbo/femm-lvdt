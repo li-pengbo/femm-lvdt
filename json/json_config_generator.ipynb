{
 "cells": [
  {
   "cell_type": "code",
   "execution_count": 1,
   "metadata": {},
   "outputs": [],
   "source": [
    "import json\n",
    "\n",
    "# 定义参数结构\n",
    "json_filename = \"LVDT_alcd_magnet_default.json\"\n",
    "h5_filename = \"LVDT_alcd_magnet_default.h5\"\n",
    "data = {\n",
    "    \"Filename\": h5_filename,\n",
    "    \"Excitation\": {\n",
    "        \"Frequency (Hz)\": 10000,\n",
    "        \"Amplitude (V)\": 0.02\n",
    "    },\n",
    "    \"Core\": {\n",
    "        \"Magnetcore\": {\n",
    "            \"Diameter (mm)\": 4,\n",
    "            \"Length (mm)\": 10,\n",
    "            \"Material\": \"N40\"\n",
    "        },\n",
    "        \"AluminumCylinder\": {\n",
    "            \"Inner Diameter (mm)\": 6,\n",
    "            \"Outer Diameter (mm)\": 8,\n",
    "            \"Length (mm)\": 12,\n",
    "            \"Material\": \"Aluminum 6061\"\n",
    "        }\n",
    "    },\n",
    "    \"Coil\": {\n",
    "        \"MiddleCoil\": {\n",
    "            \"Wire Material\": \"100um\",\n",
    "            \"Wire Diameter (mm)\": 0.1,\n",
    "            \"Insulation Thickness (mm)\": 0,\n",
    "            \"Layers\": 16,\n",
    "            \"Coil Length (mm)\": 3,\n",
    "            \"Inner Diameter (mm)\": 18,\n",
    "            \"Distance (mm)\": 0\n",
    "        },\n",
    "        \"OuterCoil\": {\n",
    "            \"Wire Material\": \"100um\",\n",
    "            \"Wire Diameter (mm)\": 0.1,\n",
    "            \"Insulation Thickness (mm)\": 0,\n",
    "            \"Layers\": 16,\n",
    "            \"Coil Length (mm)\": 3,\n",
    "            \"Inner Diameter (mm)\": 18,\n",
    "            \"Distance (mm)\": 16\n",
    "        }\n",
    "    }\n",
    "}\n",
    "\n",
    "# 导出为 JSON 文件\n",
    "with open(json_filename, \"w\") as json_file:\n",
    "    json.dump(data, json_file, indent=4)\n"
   ]
  }
 ],
 "metadata": {
  "kernelspec": {
   "display_name": "lvdt",
   "language": "python",
   "name": "python3"
  },
  "language_info": {
   "codemirror_mode": {
    "name": "ipython",
    "version": 3
   },
   "file_extension": ".py",
   "mimetype": "text/x-python",
   "name": "python",
   "nbconvert_exporter": "python",
   "pygments_lexer": "ipython3",
   "version": "3.12.2"
  }
 },
 "nbformat": 4,
 "nbformat_minor": 2
}
