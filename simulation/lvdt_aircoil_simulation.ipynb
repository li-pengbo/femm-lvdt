{
 "cells": [
  {
   "cell_type": "code",
   "execution_count": 7,
   "metadata": {},
   "outputs": [],
   "source": [
    "\"\"\"\n",
    "Author: Pengbo Li\n",
    "Created: 2024-10-22\n",
    "Version: 1.0\n",
    "\n",
    "Description: \n",
    "    Simulation of the Corecoil default design created by Fred, inspired from the I2PS LVDT design.\n",
    "    Check the LVDT performance of the air coil, magnet core, and the combination of both.\n",
    "\n",
    "Model:  \n",
    "- air coil \n",
    "- magnet core\n",
    "- air coil + magnet core\n",
    "\n",
    "\"\"\"\n",
    "import sys\n",
    "sys.dont_write_bytecode = True\n",
    "sys.path.append('../')\n",
    "from modules import simulator, coreConfig, geometry"
   ]
  },
  {
   "cell_type": "code",
   "execution_count": 8,
   "metadata": {},
   "outputs": [],
   "source": [
    "# print(geometry.def_coil_geo.__doc__)\n",
    "# print(geometry.def_core_geo.__doc__)\n",
    "# print(geometry.def_cylinder_geo.__doc__)"
   ]
  },
  {
   "cell_type": "markdown",
   "metadata": {},
   "source": [
    "### With magnetcore and corecoil activate"
   ]
  },
  {
   "cell_type": "code",
   "execution_count": null,
   "metadata": {},
   "outputs": [],
   "source": [
    "path = \"../data/aircoil/\"\n",
    "filename = 'test.h5'\n",
    "\n",
    "simulation_params = {\n",
    "    'frequency': 10000,\n",
    "    'amplitude': 0.02,\n",
    "    'moving_core': coreConfig.moving_config(-5, 1, 10)\n",
    "}\n",
    "\n",
    "core_params = {\n",
    "    'magnetcore': (8, 4, \"N40\")\n",
    "}\n",
    "\n",
    "coil_params = {\n",
    "    'corecoil': (\"100um\", 0.1, 0, 8, 12, 12, 0),\n",
    "    'middlecoil': (\"100um\", 0.1, 0, 16, 3, 18, 0),\n",
    "    'outercoil': (\"100um\", 0.1, 0, 16, 3, 18, 16)\n",
    "}\n",
    "\n",
    "simulator.run_lvdt_aircoil_simulation(path, filename, simulation_params, core_params, coil_params)\n"
   ]
  },
  {
   "cell_type": "markdown",
   "metadata": {},
   "source": [
    "### With magnetcore activate only"
   ]
  },
  {
   "cell_type": "code",
   "execution_count": null,
   "metadata": {},
   "outputs": [],
   "source": [
    "filepath = \"../data/magcore/\"\n",
    "\n",
    "simulation_params = {\n",
    "    'frequency': 10000,\n",
    "    'amplitude': 0.02,\n",
    "    'moving_core': coreConfig.moving_config(-5, 1, 10)\n",
    "}\n",
    "\n",
    "core_params = {\n",
    "    'magnetcore': [4, 8, \"N40\"]\n",
    "}   \n",
    "coil_params = {\n",
    "    'middlecoil': (\"100um\", 0.1, 0, 16, 3, 18, 0),\n",
    "    'outercoil': (\"100um\", 0.1, 0, 16, 3, 18, 16)\n",
    "}\n",
    "\n",
    "filename = 'test.h5'\n",
    "simulator.run_lvdt_aircoil_simulation(filepath, filename, simulation_params, core_params, coil_params)\n",
    "\n",
    "# filename_template = \"LVDT_magcore_d{diam:02d}_l{len:02d}.h5\"\n",
    "\n",
    "# mag_diameter = [4,5,6,7,8]\n",
    "# mag_length   = [4,6,8,10,12]\n",
    "# mag_iter = coreConfig.params_iter(param1=mag_diameter, param2=mag_length)\n",
    "\n",
    "# for iter in mag_iter:\n",
    "#     core_params['MangetCore'] = [iter[0], iter[1], \"N40\"]\n",
    "#     filename = filename_template.format(diam=iter[0], len=iter[1])\n",
    "#     run_lvdt_simulation(filepath, filename, simulation_params, core_params, coil_params)"
   ]
  }
 ],
 "metadata": {
  "kernelspec": {
   "display_name": "lvdt",
   "language": "python",
   "name": "python3"
  },
  "language_info": {
   "codemirror_mode": {
    "name": "ipython",
    "version": 3
   },
   "file_extension": ".py",
   "mimetype": "text/x-python",
   "name": "python",
   "nbconvert_exporter": "python",
   "pygments_lexer": "ipython3",
   "version": "3.12.2"
  }
 },
 "nbformat": 4,
 "nbformat_minor": 2
}
