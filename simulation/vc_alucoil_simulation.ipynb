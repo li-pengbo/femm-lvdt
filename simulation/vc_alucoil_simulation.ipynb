{
 "cells": [
  {
   "cell_type": "code",
   "execution_count": 2,
   "metadata": {},
   "outputs": [],
   "source": [
    "\"\"\"\n",
    "Author: Pengbo Li\n",
    "Created: 2024-10-22\n",
    "Version: 1.0\n",
    "\n",
    "Description: \n",
    "    Simulation of the Aluminum cylinder LVDT design.\n",
    "    Check the VC performance of the Aluminum cylinder + magnet core.\n",
    "\n",
    "Model:  \n",
    "- Aluminum cylinder, including change the inner diameter, outer diameter, and length.\n",
    "- magnet core, including change the diameter and length.\n",
    "- air coil + magnet core, including different combinations of the magnet core and air coil.\n",
    "\n",
    "\"\"\"\n",
    "import sys\n",
    "sys.dont_write_bytecode = True\n",
    "sys.path.append('../')\n",
    "from modules import simulator, geometry, coreConfig\n"
   ]
  },
  {
   "cell_type": "code",
   "execution_count": 4,
   "metadata": {},
   "outputs": [],
   "source": [
    "# print(geometry.def_coil_geo.__doc__)\n",
    "# print(geometry.def_core_geo.__doc__)\n",
    "# print(geometry.def_cylinder_geo.__doc__)"
   ]
  },
  {
   "cell_type": "code",
   "execution_count": null,
   "metadata": {},
   "outputs": [],
   "source": [
    "path = \"../data/\"\n",
    "\n",
    "simulation_params = {\n",
    "    'frequency': 0,\n",
    "    'amplitude': 1,\n",
    "    'moving_core': coreConfig.moving_config(-5, 1, 10)\n",
    "}\n",
    "\n",
    "core_params = {\n",
    "    'magnetcore': (8, 4, \"N40\"),\n",
    "    'aluminumcylinder': (8, 10, 12, 'Aluminum, 6061-T6')\n",
    "}\n",
    "\n",
    "coil_params = {\n",
    "    'corecoil': (\"100um\", 0.1, 0, 8, 12, 12, 0),\n",
    "    'middlecoil': (\"100um\", 0.1, 0, 16, 3, 18, 0),\n",
    "    'outercoil': (\"100um\", 0.1, 0, 16, 3, 18, 16)\n",
    "}\n",
    "\n",
    "filename = 'test.h5'\n",
    "simulator.run_vc_alucoil_simulation(path, filename, simulation_params, core_params, coil_params)\n",
    "\n",
    "# filename_template = \"VC_alucyld_id06_od08_l12_magnet_d{mag_diam:02d}_l{mag_len:02d}.h5\"\n",
    "\n",
    "# magnet_diam = [6,8]\n",
    "# magnet_length = [4]\n",
    "# magnet_iter = coreConfig.params_iter(magnet_diam, magnet_length)\n",
    "\n",
    "# for iter in magnet_iter:\n",
    "#     core_params['MagnetCore'] = (iter[0], iter[1], \"N40\")\n",
    "#     filename = filename_template.format(mag_diam=iter[0], mag_len=iter[1])\n",
    "#     print(filename)\n",
    "#     run_vc_simulation(path, filename, simulation_params, core_params, coil_params)\n",
    "\n"
   ]
  }
 ],
 "metadata": {
  "kernelspec": {
   "display_name": "lvdt",
   "language": "python",
   "name": "python3"
  },
  "language_info": {
   "codemirror_mode": {
    "name": "ipython",
    "version": 3
   },
   "file_extension": ".py",
   "mimetype": "text/x-python",
   "name": "python",
   "nbconvert_exporter": "python",
   "pygments_lexer": "ipython3",
   "version": "3.12.2"
  }
 },
 "nbformat": 4,
 "nbformat_minor": 2
}
