{
 "cells": [
  {
   "cell_type": "code",
   "execution_count": 2,
   "metadata": {},
   "outputs": [],
   "source": [
    "\"\"\"\n",
    "Author: Pengbo Li\n",
    "Created: 2024-10-22\n",
    "Version: 1.0\n",
    "\n",
    "Description: \n",
    "    Simulation of the Aluminum cylinder LVDT design.\n",
    "    Check the LVDT performance of the Aluminum cylinder, magnet core, and the combination of both.\n",
    "\n",
    "Model:  \n",
    "- Aluminum cylinder, including change the inner diameter, outer diameter, and length.\n",
    "- magnet core, including change the diameter and length.\n",
    "- air coil + magnet core, including different combinations of the magnet core and air coil.\n",
    "\n",
    "\"\"\"\n",
    "import os\n",
    "import sys\n",
    "sys.dont_write_bytecode = True\n",
    "sys.path.append('../')\n",
    "from modules import simulator, coreConfig, geometry"
   ]
  },
  {
   "cell_type": "code",
   "execution_count": 3,
   "metadata": {},
   "outputs": [],
   "source": [
    "# print(geometry.def_coil_geo.__doc__)\n",
    "# print(geometry.def_core_geo.__doc__)\n",
    "# print(geometry.def_cylinder_geo.__doc__)"
   ]
  },
  {
   "cell_type": "code",
   "execution_count": 4,
   "metadata": {},
   "outputs": [
    {
     "name": "stdout",
     "output_type": "stream",
     "text": [
      "m_label: 1\n",
      "alu_label: None\n",
      "mc_label: 3\n",
      "oc_upper_label: 4\n",
      "oc_lower_label: 5\n",
      "-5\n",
      "OC_upper: I= 0.020, V = 0.085633+0.512504j \n",
      "OC_lower: I= -0.020, V = -0.091118-0.513502j \n",
      "MiddleCoil: I= 0.000, V = -0.002947-0.000286j \n",
      "-4\n",
      "OC_upper: I= 0.020, V = 0.085750+0.512566j \n",
      "OC_lower: I= -0.020, V = -0.090365-0.513288j \n",
      "MiddleCoil: I= 0.000, V = -0.002621-0.000266j \n",
      "-3\n",
      "OC_upper: I= 0.020, V = 0.085951+0.512615j \n",
      "OC_lower: I= -0.020, V = -0.089533-0.513303j \n",
      "MiddleCoil: I= 0.000, V = -0.002132-0.000211j \n",
      "-2\n",
      "OC_upper: I= 0.020, V = 0.086254+0.512662j \n",
      "OC_lower: I= -0.020, V = -0.088691-0.513186j \n",
      "MiddleCoil: I= 0.000, V = -0.001506-0.000143j \n",
      "-1\n",
      "OC_upper: I= 0.020, V = 0.086676+0.512731j \n",
      "OC_lower: I= -0.020, V = -0.087906-0.513065j \n",
      "MiddleCoil: I= 0.000, V = -0.000779-0.000075j \n",
      "0\n",
      "OC_upper: I= 0.020, V = 0.087227+0.512823j \n",
      "OC_lower: I= -0.020, V = -0.087227-0.512962j \n",
      "MiddleCoil: I= 0.000, V = 0.000000-0.000024j \n",
      "1\n",
      "OC_upper: I= 0.020, V = 0.087906+0.512931j \n",
      "OC_lower: I= -0.020, V = -0.086675-0.512892j \n",
      "MiddleCoil: I= 0.000, V = 0.000779+0.000051j \n",
      "2\n",
      "OC_upper: I= 0.020, V = 0.088691+0.513062j \n",
      "OC_lower: I= -0.020, V = -0.086254-0.512821j \n",
      "MiddleCoil: I= 0.000, V = 0.001506+0.000125j \n",
      "3\n",
      "OC_upper: I= 0.020, V = 0.089533+0.513261j \n",
      "OC_lower: I= -0.020, V = -0.085951-0.512733j \n",
      "MiddleCoil: I= 0.000, V = 0.002133+0.000175j \n",
      "4\n",
      "OC_upper: I= 0.020, V = 0.090366+0.513381j \n",
      "OC_lower: I= -0.020, V = -0.085750-0.512680j \n",
      "MiddleCoil: I= 0.000, V = 0.002621+0.000227j \n",
      "5\n",
      "OC_upper: I= 0.020, V = 0.091117+0.513480j \n",
      "OC_lower: I= -0.020, V = -0.085633-0.512657j \n",
      "MiddleCoil: I= 0.000, V = 0.002947+0.000271j \n",
      "Simulation Finished\n",
      "Data saved to: ../data/prototype/lvdt_magcore_d10_l10_32awg_10layers.h5\n"
     ]
    }
   ],
   "source": [
    "filepath = \"../data/prototype/\"\n",
    "if not os.path.exists(filepath):\n",
    "    os.makedirs(filepath)\n",
    "    \n",
    "simulation_params = {\n",
    "    'frequency': 10000,\n",
    "    'amplitude': 0.02,\n",
    "    'moving_core': coreConfig.moving_config(-5, 1, 10)\n",
    "}\n",
    "\n",
    "core_params ={\n",
    "    'magnetcore': (10, 10, \"N40\"),\n",
    "    # 'aluminumcylinder': (10, 14, 12, 'Aluminum, 6061-T6')\n",
    "}\n",
    "\n",
    "coil_params = {\n",
    "    'middlecoil': (\"32 AWG\", 0.2032, 0.0178, 10, 3, 18, 0),\n",
    "    'outercoil':  (\"32 AWG\", 0.2032, 0.0178, 10, 3, 18, 16)\n",
    "}\n",
    "\n",
    "# coil_params = {\n",
    "#     'middlecoil': (\"100um\", 0.1, 0, 16, 3, 18, 0),\n",
    "#     'outercoil':  (\"100um\", 0.1, 0, 16, 3, 18, 16)\n",
    "# }\n",
    "\n",
    "\n",
    "filename = \"lvdt_magcore_d10_l10_32awg_10layers.h5\"\n",
    "simulator.run_lvdt_alucoil_simulation(filepath, filename, simulation_params, core_params, coil_params, customized_material=False)"
   ]
  },
  {
   "cell_type": "code",
   "execution_count": 16,
   "metadata": {},
   "outputs": [
    {
     "data": {
      "text/plain": [
       "{'signal_frequency': 10000,\n",
       " 'unit': 'millimeters',\n",
       " 'problem_type': 'axi',\n",
       " 'precision': 1e-10}"
      ]
     },
     "execution_count": 16,
     "metadata": {},
     "output_type": "execute_result"
    }
   ],
   "source": [
    "mag_geo = simulator.geometry.def_core_geo(*core_params['magnetcore'])\n",
    "alu_geo = simulator.geometry.def_cylinder_geo(*core_params['aluminumcylinder'])\n",
    "mc_geo  = simulator.geometry.def_coil_geo(*coil_params['middlecoil'])\n",
    "oc_geo  = simulator.geometry.def_coil_geo(*coil_params['outercoil'])\n",
    "MC_circuit = simulator.def_circuit_prop(\"middlecoil\", 0, 0)\n",
    "OC_upper_circuit =simulator.def_circuit_prop(\"outercoil_upper\", simulation_params['frequency'], simulation_params['amplitude'])\n",
    "OC_lower_circuit = simulator.def_circuit_prop(\"outercoil_lower\", simulation_params['frequency'], -simulation_params['amplitude'])\n",
    "simulator.def_femm_problem(signal_frequency=simulation_params['frequency'])\n"
   ]
  },
  {
   "cell_type": "code",
   "execution_count": 13,
   "metadata": {},
   "outputs": [],
   "source": [
    "mc_label = simulator.build_coil_geometry(mc_geo, MC_circuit,3, customized_material=False)\n"
   ]
  },
  {
   "cell_type": "code",
   "execution_count": 14,
   "metadata": {},
   "outputs": [],
   "source": [
    "oc_label = simulator.build_coil_geometry(oc_geo, OC_upper_circuit,4, customized_material=False)\n"
   ]
  },
  {
   "cell_type": "code",
   "execution_count": 17,
   "metadata": {},
   "outputs": [],
   "source": [
    "simulator.build_air_geometry(\"Outside\", 10)\n",
    "m_label = simulator.build_core_geometry(mag_geo, 1)\n",
    "alu_label = simulator.build_cylinder_geometry(alu_geo, 2)\n",
    "mc_label = simulator.build_coil_geometry(mc_geo, MC_circuit,3, customized_material=False)\n",
    "oc_label = simulator.build_coil_geometry(oc_geo, OC_upper_circuit,4, customized_material=False)\n",
    "oc_label = simulator.build_coil_geometry(oc_geo, OC_lower_circuit,5, customized_material=False, reverse=True)"
   ]
  },
  {
   "cell_type": "code",
   "execution_count": null,
   "metadata": {},
   "outputs": [],
   "source": [
    "\n",
    "# filename_template = \"LVDT_alucyld_id{alu_inn_diam:02d}_od{alu_out_diam:02d}_l{alu_len}.h5\"\n",
    "# alu_cyld_inn_diam = [6, 7, 8, 9]\n",
    "# alu_cyld_out_diam = [14]\n",
    "# alu_iter = coreConfig.params_iter(alu_cyld_inn_diam, alu_cyld_out_diam)\n",
    "\n",
    "# for iter in alu_iter:\n",
    "#     core_params['aluminumcylinder'] = (iter[0], iter[1], 12, 'Aluminum, 6061-T6')\n",
    "#     filename = filename_template.format(alu_inn_diam=iter[0],alu_out_diam=iter[1],  alu_len=12)\n",
    "#     print(filename)\n",
    "#     run_lvdt_simulation(filepath, filename, simulation_params, core_params, coil_params)\n",
    "\n"
   ]
  }
 ],
 "metadata": {
  "kernelspec": {
   "display_name": "lvdt",
   "language": "python",
   "name": "python3"
  },
  "language_info": {
   "codemirror_mode": {
    "name": "ipython",
    "version": 3
   },
   "file_extension": ".py",
   "mimetype": "text/x-python",
   "name": "python",
   "nbconvert_exporter": "python",
   "pygments_lexer": "ipython3",
   "version": "3.12.2"
  }
 },
 "nbformat": 4,
 "nbformat_minor": 2
}
