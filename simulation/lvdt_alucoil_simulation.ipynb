{
 "cells": [
  {
   "cell_type": "code",
   "execution_count": 1,
   "metadata": {},
   "outputs": [],
   "source": [
    "\"\"\"\n",
    "Author: Pengbo Li\n",
    "Created: 2024-10-22\n",
    "Version: 1.0\n",
    "\n",
    "Description: \n",
    "    Simulation of the Aluminum cylinder LVDT design.\n",
    "    Check the LVDT performance of the Aluminum cylinder, magnet core, and the combination of both.\n",
    "\n",
    "Model:  \n",
    "- Aluminum cylinder, including change the inner diameter, outer diameter, and length.\n",
    "- magnet core, including change the diameter and length.\n",
    "- air coil + magnet core, including different combinations of the magnet core and air coil.\n",
    "\n",
    "\"\"\"\n",
    "import os\n",
    "import sys\n",
    "sys.dont_write_bytecode = True\n",
    "sys.path.append('../')\n",
    "from modules import simulator, coreConfig, geometry"
   ]
  },
  {
   "cell_type": "code",
   "execution_count": null,
   "metadata": {},
   "outputs": [],
   "source": [
    "# print(geometry.def_coil_geo.__doc__)\n",
    "# print(geometry.def_core_geo.__doc__)\n",
    "# print(geometry.def_cylinder_geo.__doc__)"
   ]
  },
  {
   "cell_type": "code",
   "execution_count": 2,
   "metadata": {},
   "outputs": [],
   "source": [
    "simulation_params = {\n",
    "    'frequency': 10000,\n",
    "    'amplitude': 0.02,\n",
    "    'moving_core': coreConfig.moving_config(-5, 1, 10)\n",
    "}\n",
    "\n",
    "core_params ={\n",
    "    'magnetcore': (10, 10, \"N40\"),\n",
    "    'aluminumcylinder': (10, 14, 12, 'Aluminum, 6061-T6')\n",
    "}\n",
    "\n",
    "coil_params = {\n",
    "    'middlecoil': (\"32 AWG\", 0.2032, 0.0178, 10, 3, 18, 0),\n",
    "    'outercoil':  (\"32 AWG\", 0.2032, 0.0178, 10, 3, 18, 16)\n",
    "}\n",
    "\n",
    "# coil_params = {\n",
    "#     'middlecoil': (\"100um\", 0.1, 0, 16, 3, 18, 0),\n",
    "#     'outercoil':  (\"100um\", 0.1, 0, 16, 3, 18, 16)\n",
    "# }"
   ]
  },
  {
   "cell_type": "code",
   "execution_count": null,
   "metadata": {},
   "outputs": [],
   "source": [
    "# filepath = \"../data/prototype/\"\n",
    "# if not os.path.exists(filepath):\n",
    "#     os.makedirs(filepath)\n",
    "# filename = \"lvdt_magcore_d10_l10_32awg_10layers.h5\"\n",
    "# simulator.run_lvdt_alucoil_simulation(filepath, filename, simulation_params, core_params, coil_params, customized_material=False)"
   ]
  },
  {
   "cell_type": "code",
   "execution_count": null,
   "metadata": {},
   "outputs": [],
   "source": [
    "filepath = \"../data/magnetcore_lvdt/\"\n",
    "filename_template = \"VC_alucyld_id10_od14_l12_magnet_d{mag_diam:02d}_l{mag_len:02d}.h5\"\n",
    "\n",
    "magnet_diam = [5,6,7,8]\n",
    "magnet_length = [4,6,8,10,12]\n",
    "magnet_iter = coreConfig.params_iter(magnet_diam, magnet_length)\n",
    "\n",
    "for iter in magnet_iter:\n",
    "    core_params['MagnetCore'] = (iter[0], iter[1], \"N40\")\n",
    "    filename = filename_template.format(mag_diam=iter[0], mag_len=iter[1])\n",
    "    print(filename)\n",
    "    simulator.run_vc_simulation(filepath, filename, simulation_params, core_params, coil_params)\n"
   ]
  },
  {
   "cell_type": "code",
   "execution_count": null,
   "metadata": {},
   "outputs": [],
   "source": [
    "# filename_template = \"LVDT_alucyld_id{alu_inn_diam:02d}_od{alu_out_diam:02d}_l{alu_len}.h5\"\n",
    "# alu_cyld_inn_diam = [6, 7, 8, 9]\n",
    "# alu_cyld_out_diam = [14]\n",
    "# alu_iter = coreConfig.params_iter(alu_cyld_inn_diam, alu_cyld_out_diam)\n",
    "\n",
    "# for iter in alu_iter:\n",
    "#     core_params['aluminumcylinder'] = (iter[0], iter[1], 12, 'Aluminum, 6061-T6')\n",
    "#     filename = filename_template.format(alu_inn_diam=iter[0],alu_out_diam=iter[1],  alu_len=12)\n",
    "#     print(filename)\n",
    "#     run_lvdt_simulation(filepath, filename, simulation_params, core_params, coil_params)\n",
    "\n"
   ]
  }
 ],
 "metadata": {
  "kernelspec": {
   "display_name": "lvdt",
   "language": "python",
   "name": "python3"
  },
  "language_info": {
   "codemirror_mode": {
    "name": "ipython",
    "version": 3
   },
   "file_extension": ".py",
   "mimetype": "text/x-python",
   "name": "python",
   "nbconvert_exporter": "python",
   "pygments_lexer": "ipython3",
   "version": "3.12.2"
  }
 },
 "nbformat": 4,
 "nbformat_minor": 2
}
