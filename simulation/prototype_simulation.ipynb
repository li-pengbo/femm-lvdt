{
 "cells": [
  {
   "cell_type": "code",
   "execution_count": null,
   "metadata": {},
   "outputs": [],
   "source": [
    "import os\n",
    "import sys\n",
    "sys.dont_write_bytecode = True\n",
    "sys.path.append('../')\n",
    "from modules import simulator, coreConfig, geometry"
   ]
  },
  {
   "cell_type": "code",
   "execution_count": null,
   "metadata": {},
   "outputs": [],
   "source": [
    "filepath = \"../data/prototype/\"\n",
    "if not os.path.exists(filepath):\n",
    "    os.makedirs(filepath)\n",
    "    \n",
    "core_params ={\n",
    "    'magnetcore': (10, 10, \"N40\"),\n",
    "    'aluminumcylinder': (10, 14, 12, 'Aluminum, 6061-T6')\n",
    "}\n",
    "\n",
    "# config 1\n",
    "coil_params = {\n",
    "    'middlecoil': (\"32 AWG\", 0.2032, 0.0178, 16, 3, 18, 0),\n",
    "    'outercoil':  (\"32 AWG\", 0.2032, 0.0178, 16, 3, 18, 16)\n",
    "}\n",
    "\n",
    "# # config 2\n",
    "# coil_params = {\n",
    "#     'middlecoil': (\"32 AWG\", 0.2032, 0.0178, 16, 5, 18, 0),\n",
    "#     'outercoil':  (\"32 AWG\", 0.2032, 0.0178, 16, 5, 18, 16)\n",
    "# }\n"
   ]
  },
  {
   "cell_type": "code",
   "execution_count": null,
   "metadata": {},
   "outputs": [],
   "source": [
    "geometry.def_coil_geo(*coil_params['outercoil'])"
   ]
  },
  {
   "cell_type": "code",
   "execution_count": null,
   "metadata": {},
   "outputs": [],
   "source": [
    "lvdt_simulation_params = {\n",
    "    'frequency': 10000,\n",
    "    'amplitude': 0.02,\n",
    "    'moving_core': coreConfig.moving_config(-0.5, 0.1, 10)\n",
    "}\n",
    "\n",
    "vc_simulation_params = {\n",
    "    'frequency': 0,\n",
    "    'amplitude': 1,\n",
    "    'moving_core': coreConfig.moving_config(-0.5, 0.1, 10)\n",
    "}"
   ]
  },
  {
   "cell_type": "code",
   "execution_count": null,
   "metadata": {},
   "outputs": [],
   "source": [
    "filename = \"lvdt_alu_id10_od14_l12_magcore_d10_l10_32awg_16layers_3mmwidth.h5\"\n",
    "simulator.run_lvdt_alucoil_simulation(filepath, filename, lvdt_simulation_params, core_params, coil_params, customized_material=False)"
   ]
  },
  {
   "cell_type": "code",
   "execution_count": null,
   "metadata": {},
   "outputs": [],
   "source": [
    "filename = 'vc_alu_id10_od14_l12_magcore_d10_l10_32awg_16layer_3mmwidth.h5'\n",
    "simulator.run_vc_alucoil_simulation(filepath, filename, vc_simulation_params, core_params, coil_params, customized_material=False)"
   ]
  },
  {
   "cell_type": "code",
   "execution_count": null,
   "metadata": {},
   "outputs": [],
   "source": []
  }
 ],
 "metadata": {
  "kernelspec": {
   "display_name": "lvdt",
   "language": "python",
   "name": "python3"
  },
  "language_info": {
   "codemirror_mode": {
    "name": "ipython",
    "version": 3
   },
   "file_extension": ".py",
   "mimetype": "text/x-python",
   "name": "python",
   "nbconvert_exporter": "python",
   "pygments_lexer": "ipython3",
   "version": "3.12.2"
  }
 },
 "nbformat": 4,
 "nbformat_minor": 2
}
