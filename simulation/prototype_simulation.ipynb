{
 "cells": [
  {
   "cell_type": "code",
   "execution_count": 1,
   "metadata": {},
   "outputs": [],
   "source": [
    "import os\n",
    "import sys\n",
    "sys.dont_write_bytecode = True\n",
    "sys.path.append('../')\n",
    "from modules import simulator, coreConfig, geometry"
   ]
  },
  {
   "cell_type": "code",
   "execution_count": 4,
   "metadata": {},
   "outputs": [],
   "source": [
    "filepath = \"../data/prototype/\"\n",
    "if not os.path.exists(filepath):\n",
    "    os.makedirs(filepath)\n",
    "    \n",
    "core_params ={\n",
    "    'magnetcore': (10, 10, \"N40\"),\n",
    "    'aluminumcylinder': (10, 14, 12, 'Aluminum, 6061-T6')\n",
    "}\n",
    "\n",
    "coil_params = {\n",
    "    'middlecoil': (\"32 AWG\", 0.2032, 0.0178, 10, 3, 18, 0),\n",
    "    'outercoil':  (\"32 AWG\", 0.2032, 0.0178, 10, 3, 18, 16)\n",
    "}"
   ]
  },
  {
   "cell_type": "code",
   "execution_count": 5,
   "metadata": {},
   "outputs": [
    {
     "name": "stdout",
     "output_type": "stream",
     "text": [
      "m_label: 1\n",
      "alu_label: 2\n",
      "mc_label: 3\n",
      "oc_upper_label: 4\n",
      "oc_lower_label: 5\n",
      "-5\n",
      "Upper Outer Coil: Force = -0.206722 \n",
      "Lower Outer Coil: Force = -0.341633 \n",
      "MiddleCoil: Force = -0.000979 \n",
      "Magnet: Force = -0.000979 \n",
      "-4\n",
      "Upper Outer Coil: Force = -0.245063 \n",
      "Lower Outer Coil: Force = -0.415261 \n",
      "MiddleCoil: Force = 0.001430 \n",
      "Magnet: Force = 0.001430 \n",
      "-3\n",
      "Upper Outer Coil: Force = -0.287773 \n",
      "Lower Outer Coil: Force = -0.463876 \n",
      "MiddleCoil: Force = 0.000025 \n",
      "Magnet: Force = 0.000025 \n",
      "-2\n",
      "Upper Outer Coil: Force = -0.332285 \n",
      "Lower Outer Coil: Force = -0.474981 \n",
      "MiddleCoil: Force = 0.001604 \n",
      "Magnet: Force = 0.001604 \n",
      "-1\n",
      "Upper Outer Coil: Force = -0.380842 \n",
      "Lower Outer Coil: Force = -0.459672 \n",
      "MiddleCoil: Force = 0.001292 \n",
      "Magnet: Force = 0.001292 \n",
      "0\n",
      "Upper Outer Coil: Force = -0.428436 \n",
      "Lower Outer Coil: Force = -0.424707 \n",
      "MiddleCoil: Force = -0.000483 \n",
      "Magnet: Force = -0.000483 \n",
      "1\n",
      "Upper Outer Coil: Force = -0.461038 \n",
      "Lower Outer Coil: Force = -0.382418 \n",
      "MiddleCoil: Force = 0.000210 \n",
      "Magnet: Force = 0.000210 \n",
      "2\n",
      "Upper Outer Coil: Force = -0.471132 \n",
      "Lower Outer Coil: Force = -0.334422 \n",
      "MiddleCoil: Force = -0.000441 \n",
      "Magnet: Force = -0.000441 \n",
      "3\n",
      "Upper Outer Coil: Force = -0.453684 \n",
      "Lower Outer Coil: Force = -0.291786 \n",
      "MiddleCoil: Force = -0.000927 \n",
      "Magnet: Force = -0.000927 \n",
      "4\n",
      "Upper Outer Coil: Force = -0.408684 \n",
      "Lower Outer Coil: Force = -0.250833 \n",
      "MiddleCoil: Force = 0.000822 \n",
      "Magnet: Force = 0.000822 \n",
      "5\n",
      "Upper Outer Coil: Force = -0.332547 \n",
      "Lower Outer Coil: Force = -0.214145 \n",
      "MiddleCoil: Force = 0.000036 \n",
      "Magnet: Force = 0.000036 \n",
      "Simulation Finished\n",
      "Data saved to: ../data/prototype/vc_alu_id10_od14_l12_magcore_d10_l10_32awg_10layers.h5\n"
     ]
    }
   ],
   "source": [
    "simulation_params = {\n",
    "    'frequency': 0,\n",
    "    'amplitude': 1,\n",
    "    'moving_core': coreConfig.moving_config(-5, 1, 10)\n",
    "}\n",
    "filename = 'vc_alu_id10_od14_l12_magcore_d10_l10_32awg_10layers.h5'\n",
    "simulator.run_vc_alucoil_simulation(filepath, filename, simulation_params, core_params, coil_params)"
   ]
  },
  {
   "cell_type": "code",
   "execution_count": null,
   "metadata": {},
   "outputs": [],
   "source": [
    "simulation_params = {\n",
    "    'frequency': 10000,\n",
    "    'amplitude': 0.02,\n",
    "    'moving_core': coreConfig.moving_config(-5, 1, 10)\n",
    "}\n",
    "filename = \"lvdt_magcore_d10_l10_32awg_10layers.h5\"\n",
    "simulator.run_lvdt_alucoil_simulation(filepath, filename, simulation_params, core_params, coil_params, customized_material=False)"
   ]
  }
 ],
 "metadata": {
  "kernelspec": {
   "display_name": "lvdt",
   "language": "python",
   "name": "python3"
  },
  "language_info": {
   "codemirror_mode": {
    "name": "ipython",
    "version": 3
   },
   "file_extension": ".py",
   "mimetype": "text/x-python",
   "name": "python",
   "nbconvert_exporter": "python",
   "pygments_lexer": "ipython3",
   "version": "3.12.2"
  }
 },
 "nbformat": 4,
 "nbformat_minor": 2
}
